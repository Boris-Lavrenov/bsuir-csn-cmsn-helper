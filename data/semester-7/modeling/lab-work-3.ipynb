{
 "cells": [
  {
   "cell_type": "code",
   "execution_count": 34,
   "metadata": {
    "collapsed": false,
    "scrolled": true
   },
   "outputs": [
    {
     "name": "stdout",
     "output_type": "stream",
     "text": [
      "[0.00805048 0.04953066 0.00575951 0.18737942 0.28684915 0.46509162]\n",
      "\n",
      "L__q: 1.091846780937353\n",
      "A: 0.7973747168191608\n",
      "W__q:  1.3693019830035276\n",
      "K__1: 0.994610365714087\n",
      "K__2: 0.945079708102367\n"
     ]
    }
   ],
   "source": [
    "import numpy as np\n",
    "\n",
    "p = 0.1\n",
    "pi_1 = 0.7\n",
    "pi_2 = 0.5\n",
    "\n",
    "a = np.array([[p - 1 + 1, p * (1 - pi_1) + 1, p * (1 - pi_2) + 1, p * (1 - pi_1) * (1 - pi_2) + 1, 0 + 1, 0 + 1],\n",
    "              [1 - p + 1, p * pi_1 - 1 + 1, 0 + 1, p * pi_1 * (1 - pi_2) + (1 - p) * (1 - pi_1) * (1 - pi_2) + 1, p * (1 - pi_1) * (1 - pi_2) + 1, 0 + 1],\n",
    "              [0 + 1, 0 + 1, p * pi_2 - 1 + 1, p * pi_2 * (1 - pi_1) + 1, 0 + 1, 0 + 1],\n",
    "              [0 + 1, (1 - p) * pi_1 + 1, (1 - p) * pi_2 + 1, (1 - p) * (1 - pi_1) * pi_2 + (1 - p) * pi_1 * (1 - pi_2) + p * pi_1 * pi_2 - 1 + 1, p * (1 - pi_1) * pi_2 + p * pi_1 * (1 - pi_2) + (1 - p) * (1 - pi_1) * (1 - pi_2) + 1, p * (1 - pi_1) * (1 - pi_2) + 1],\n",
    "              [0 + 1, 0 + 1, 0 + 1, (1 - p) * pi_1 * pi_2 + 1, (1 - p) * (1 - pi_1) * pi_2 + (1 - p) * pi_1 * (1 - pi_2) + p * pi_1 * pi_2 - 1 + 1, p * (1 - pi_1) * pi_2 + p * pi_1 * (1 - pi_2) + (1 - p) * (1 - pi_1) * (1 - pi_2) + 1],\n",
    "              [1, 1, 1, 1, (1 - p) *  pi_1 * pi_2 + 1, pi_1 * pi_2 + (1 - p) * pi_1 * (1 - pi_2) + (1 - p) * pi_2 * (1 - pi_1) - 1 + 1]])\n",
    "\n",
    "b = np.array([1.0, 1.0, 1.0, 1.0, 1.0, 1.0])\n",
    "\n",
    "P__v = np.linalg.solve(a, b)\n",
    "print(P__v)\n",
    "\n",
    "A = 2 * (P__v[3] * p * (1 - pi_1) * (1 - pi_2) +\n",
    "       P__v[4] * p * (1 - pi_1) * (1 - pi_2) +\n",
    "       P__v[5] * p * (1 - pi_1) * (1 - pi_2)) +\\\n",
    "    1 * (P__v[1] * (1 - pi_1) +\n",
    "         P__v[2] * (1 - pi_2) +\n",
    "       P__v[3] * ((1 - pi_1) + (1 - pi_2)) +\n",
    "       P__v[4] * ((1 - pi_1) + (1 - pi_2)) +\n",
    "       P__v[5] * ((1 - pi_1) + (1 - pi_2)))\n",
    "    \n",
    "L__q = 2 * (P__v[5] * (pi_1 * pi_2 + (1 - p) * pi_2 * (1 - pi_1) + (1 - p) * pi_1 * (1 - pi_1)) +\n",
    "           P__v[4] * (1 - p) * pi_1 * pi_2) +\\\n",
    "    1 * (P__v[3] * (1 - p) * pi_1 * pi_2 +\n",
    "         P__v[4] * (p * pi_1 * pi_2 + (1 - p) * pi_1 * (1 - pi_2) + (1 - p) * pi_2 * (1 - pi_1)) + \n",
    "         P__v[5] * ((1 - p) * (1 - pi_1) * (1 - pi_2) + p * pi_1 * (1 - pi_2) +  p * pi_2 * (1 - pi_1)))\n",
    "    \n",
    "W__q = L__q / A\n",
    "\n",
    "K__1 = np.dot(P__v, [0, 1, 1, 1, 1, 1])\n",
    "K__2 = np.dot(P__v, [0, 0, 1, 1, 1, 1])\n",
    "\n",
    "print(\"\\nL__q:\", L__q)\n",
    "print(\"A:\", A)\n",
    "print(\"W__q: \", W__q)\n",
    "print(\"K__1:\", K__1)\n",
    "print(\"K__2:\", K__2)"
   ]
  },
  {
   "cell_type": "code",
   "execution_count": 0,
   "metadata": {
    "collapsed": false
   },
   "outputs": [
   ],
   "source": [
   ]
  }
 ],
 "metadata": {
  "kernelspec": {
   "display_name": "Python 3 (system-wide)",
   "language": "python",
   "metadata": {
    "cocalc": {
     "description": "Python 3 programming language",
     "priority": 100,
     "url": "https://www.python.org/"
    }
   },
   "name": "python3"
  },
  "language_info": {
   "codemirror_mode": {
    "name": "ipython",
    "version": 3
   },
   "file_extension": ".py",
   "mimetype": "text/x-python",
   "name": "python",
   "nbconvert_exporter": "python",
   "pygments_lexer": "ipython3",
   "version": "3.6.8"
  }
 },
 "nbformat": 4,
 "nbformat_minor": 0
}