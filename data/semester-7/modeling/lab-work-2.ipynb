{
 "cells": [
  {
   "cell_type": "code",
   "execution_count": 1,
   "metadata": {
    "collapsed": false
   },
   "outputs": [
   ],
   "source": [
    "import numpy as np\n",
    "import matplotlib.pyplot as plt\n",
    "import random\n",
    "import math\n",
    "from functools import reduce"
   ]
  },
  {
   "cell_type": "code",
   "execution_count": 2,
   "metadata": {
    "collapsed": false
   },
   "outputs": [
   ],
   "source": [
    "def get_random_sequence(n):\n",
    "    return list(map(lambda x: random.random(), range(0, n)))\n",
    "\n",
    "\n",
    "def show_hist(sequence):\n",
    "    weights = np.ones_like(sequence) / float(len(sequence))\n",
    "    plt.hist(sequence, bins=np.linspace(min(sequence), max(sequence), 21),\n",
    "             weights=weights, histtype='bar', color='purple', rwidth=0.95)\n",
    "    plt.show()\n",
    "\n",
    "\n",
    "def review(sequence):\n",
    "    show_hist(sequence)\n",
    "    print('\\nMean: ', np.mean(sequence), '\\nVariance: ',\n",
    "          np.var(sequence), '\\nStandard deviation: ', np.std(sequence), '\\n')\n",
    "\n",
    "# a + (b - a) * x\n",
    "def get_uniform_distribution(a, b):\n",
    "    return list(map(lambda x: a + (b - a) * x, get_random_sequence(1000000)))\n",
    "\n",
    "# M + std * /(12/n) * (random - n/2)\n",
    "def get_gauss_distribution(mean, std, n=6):\n",
    "    return list(map(lambda x: mean + std * math.sqrt(12/n) * (sum(get_random_sequence(n)) - n/2), range(0, 1000000)))\n",
    "\n",
    "# -1/lambda * ln(R)\n",
    "def get_exponential_distribution(lambda_param):\n",
    "    return list(map(lambda x: - 1 / lambda_param * math.log(x), get_random_sequence(1000000)))\n",
    "\n",
    "# -1/lambda * ln(summ(yz))\n",
    "def get_gamma_distribution(eta, lambda_param):\n",
    "    return list(map(lambda x: -1 / lambda_param * math.log(reduce(lambda y, z: y*z, get_random_sequence(eta))),\n",
    "                    range(0, 1000000)))\n",
    "\n",
    "#  2 * (b - x) / (b - a)^2\n",
    "def get_min_triangle_distribution(a, b):\n",
    "    return list(map(lambda x: a + (b - a) * min(get_random_sequence(2)), range(0, 1000000)))\n",
    "\n",
    "#  2 * (x - a) / (b - a)^2\n",
    "def get_max_triangle_distribution(a, b):\n",
    "    return list(map(lambda x: a + (b - a) * max(get_random_sequence(2)), range(0, 1000000)))\n",
    "\n",
    "# X = y + z\n",
    "def get_simpson_distribution(a, b):\n",
    "    return list(map(lambda x, y: x + y, get_uniform_distribution(a/2, b/2), get_uniform_distribution(a/2, b/2)))"
   ]
  },
  {
   "cell_type": "code",
   "execution_count": 3,
   "metadata": {
    "cocalc": {
     "outputs": {
      "1": {
       "name": "input",
       "opts": {
        "password": false,
        "prompt": "A: "
       },
       "output_type": "stream",
       "value": "10"
      },
      "10": {
       "name": "input",
       "opts": {
        "password": false,
        "prompt": "λ: "
       },
       "output_type": "stream",
       "value": "30"
      },
      "13": {
       "name": "input",
       "opts": {
        "password": false,
        "prompt": "η: "
       },
       "output_type": "stream",
       "value": "10"
      },
      "14": {
       "name": "input",
       "opts": {
        "password": false,
        "prompt": "λ: "
       },
       "output_type": "stream",
       "value": "20"
      },
      "17": {
       "name": "input",
       "opts": {
        "password": false,
        "prompt": "A: "
       },
       "output_type": "stream",
       "value": "10"
      },
      "18": {
       "name": "input",
       "opts": {
        "password": false,
        "prompt": "B: "
       },
       "output_type": "stream",
       "value": "15"
      },
      "2": {
       "name": "input",
       "opts": {
        "password": false,
        "prompt": "B: "
       },
       "output_type": "stream",
       "value": "20"
      },
      "21": {
       "name": "input",
       "opts": {
        "password": false,
        "prompt": "A: "
       },
       "output_type": "stream",
       "value": "15"
      },
      "22": {
       "name": "input",
       "opts": {
        "password": false,
        "prompt": "B: "
       },
       "output_type": "stream",
       "value": "10"
      },
      "25": {
       "name": "input",
       "opts": {
        "password": false,
        "prompt": "A: "
       },
       "output_type": "stream",
       "value": "15"
      },
      "26": {
       "name": "input",
       "opts": {
        "password": false,
        "prompt": "B: "
       },
       "output_type": "stream",
       "value": "20"
      },
      "5": {
       "name": "input",
       "opts": {
        "password": false,
        "prompt": "Mean: "
       },
       "output_type": "stream",
       "value": "25"
      },
      "6": {
       "name": "input",
       "opts": {
        "password": false,
        "prompt": "Std: "
       },
       "output_type": "stream",
       "value": "10"
      },
      "7": {
       "name": "input",
       "opts": {
        "password": false,
        "prompt": "N: "
       },
       "output_type": "stream",
       "value": "40"
      }
     }
    },
    "collapsed": false
   },
   "outputs": [
    {
     "name": "stdout",
     "output_type": "stream",
     "text": [
      "Uniform distribution: \n"
     ]
    },
    {
     "name": "stdout",
     "output_type": "stream",
     "text": "A:  10"
    },
    {
     "name": "stdout",
     "output_type": "stream",
     "text": "B:  20"
    },
    {
     "data": {
      "image/png": "[encoded data removed]",
      "text/plain": [
       "<Figure size 432x288 with 1 Axes>"
      ]
     },
     "execution_count": 3,
     "metadata": {
      "image/png": {
       "height": 248,
       "width": 378
      }
     },
     "output_type": "execute_result"
    },
    {
     "name": "stdout",
     "output_type": "stream",
     "text": [
      "\n",
      "Mean:  14.99810140830304 \n",
      "Variance:  8.321917219626398 \n",
      "Standard deviation:  2.884773339384985 \n",
      "\n",
      "Gauss distribution: \n"
     ]
    },
    {
     "name": "stdout",
     "output_type": "stream",
     "text": "Mean:  25"
    },
    {
     "name": "stdout",
     "output_type": "stream",
     "text": "Std:  10"
    },
    {
     "name": "stdout",
     "output_type": "stream",
     "text": "N:  40"
    },
    {
     "data": {
      "image/png": "[encoded data removed]",
      "text/plain": [
       "<Figure size 432x288 with 1 Axes>"
      ]
     },
     "execution_count": 3,
     "metadata": {
      "image/png": {
       "height": 248,
       "width": 385
      }
     },
     "output_type": "execute_result"
    },
    {
     "name": "stdout",
     "output_type": "stream",
     "text": [
      "\n",
      "Mean:  24.983890470331982 \n",
      "Variance:  99.87899423091395 \n",
      "Standard deviation:  9.993947880137956 \n",
      "\n",
      "Exponential distribution: \n"
     ]
    },
    {
     "name": "stdout",
     "output_type": "stream",
     "text": "λ:  30"
    },
    {
     "data": {
      "image/png": "[encoded data removed]",
      "text/plain": [
       "<Figure size 432x288 with 1 Axes>"
      ]
     },
     "execution_count": 3,
     "metadata": {
      "image/png": {
       "height": 248,
       "width": 372
      }
     },
     "output_type": "execute_result"
    },
    {
     "name": "stdout",
     "output_type": "stream",
     "text": [
      "\n",
      "Mean:  0.03333957911289648 \n",
      "Variance:  0.0011119839283367694 \n",
      "Standard deviation:  0.033346423021619116 \n",
      "\n",
      "Gamma distribution: \n"
     ]
    },
    {
     "name": "stdout",
     "output_type": "stream",
     "text": "η:  10"
    },
    {
     "name": "stdout",
     "output_type": "stream",
     "text": "λ:  20"
    },
    {
     "data": {
      "image/png": "[encoded data removed]",
      "text/plain": [
       "<Figure size 432x288 with 1 Axes>"
      ]
     },
     "execution_count": 3,
     "metadata": {
      "image/png": {
       "height": 248,
       "width": 378
      }
     },
     "output_type": "execute_result"
    },
    {
     "name": "stdout",
     "output_type": "stream",
     "text": [
      "\n",
      "Mean:  0.5002685261928905 \n",
      "Variance:  0.024987750883737857 \n",
      "Standard deviation:  0.1580751431558354 \n",
      "\n",
      "Min-Triangle distribution\n"
     ]
    },
    {
     "name": "stdout",
     "output_type": "stream",
     "text": "A:  10"
    },
    {
     "name": "stdout",
     "output_type": "stream",
     "text": "B:  15"
    },
    {
     "data": {
      "image/png": "[encoded data removed]",
      "text/plain": [
       "<Figure size 432x288 with 1 Axes>"
      ]
     },
     "execution_count": 3,
     "metadata": {
      "image/png": {
       "height": 248,
       "width": 378
      }
     },
     "output_type": "execute_result"
    },
    {
     "name": "stdout",
     "output_type": "stream",
     "text": [
      "\n",
      "Mean:  11.66762795066331 \n",
      "Variance:  1.390708302865398 \n",
      "Standard deviation:  1.1792829613224292 \n",
      "\n",
      "Max-Triangle distribution\n"
     ]
    },
    {
     "name": "stdout",
     "output_type": "stream",
     "text": "A:  15"
    },
    {
     "name": "stdout",
     "output_type": "stream",
     "text": "B:  10"
    },
    {
     "data": {
      "image/png": "[encoded data removed]",
      "text/plain": [
       "<Figure size 432x288 with 1 Axes>"
      ]
     },
     "execution_count": 3,
     "metadata": {
      "image/png": {
       "height": 248,
       "width": 378
      }
     },
     "output_type": "execute_result"
    },
    {
     "name": "stdout",
     "output_type": "stream",
     "text": [
      "\n",
      "Mean:  11.666521635809447 \n",
      "Variance:  1.3879182060795345 \n",
      "Standard deviation:  1.1780994041588913 \n",
      "\n",
      "Simpson distribution\n"
     ]
    },
    {
     "name": "stdout",
     "output_type": "stream",
     "text": "A:  15"
    },
    {
     "name": "stdout",
     "output_type": "stream",
     "text": "B:  20"
    },
    {
     "data": {
      "image/png": "[encoded data removed]",
      "text/plain": [
       "<Figure size 432x288 with 1 Axes>"
      ]
     },
     "execution_count": 3,
     "metadata": {
      "image/png": {
       "height": 248,
       "width": 378
      }
     },
     "output_type": "execute_result"
    },
    {
     "name": "stdout",
     "output_type": "stream",
     "text": [
      "\n",
      "Mean:  17.499604816153944 \n",
      "Variance:  1.0430914070820325 \n",
      "Standard deviation:  1.0213184650646596 \n",
      "\n"
     ]
    }
   ],
   "source": [
    "print('Uniform distribution: ')\n",
    "review(get_uniform_distribution(int(input('A: ')), int(input('B: '))))\n",
    "\n",
    "print('Gauss distribution: ')\n",
    "review(get_gauss_distribution(int(input('Mean: ')), int(input('Std: ')), int(input('N: '))))\n",
    "\n",
    "print('Exponential distribution: ')\n",
    "review(get_exponential_distribution(int(input('λ: '))))\n",
    "\n",
    "print('Gamma distribution: ')\n",
    "review(get_gamma_distribution(int(input('η: ')), int(input('λ: '))))\n",
    "\n",
    "print('Min-Triangle distribution')\n",
    "review(get_min_triangle_distribution(int(input('A: ')), int(input('B: '))))\n",
    "\n",
    "print('Max-Triangle distribution')\n",
    "review(get_max_triangle_distribution(int(input('A: ')), int(input('B: '))))\n",
    "\n",
    "print('Simpson distribution')\n",
    "review(get_simpson_distribution(int(input('A: ')), int(input('B: '))))"
   ]
  },
  {
   "cell_type": "code",
   "execution_count": 0,
   "metadata": {
    "collapsed": false
   },
   "outputs": [
   ],
   "source": [
   ]
  },
  {
   "cell_type": "code",
   "execution_count": 0,
   "metadata": {
    "collapsed": false
   },
   "outputs": [
   ],
   "source": [
   ]
  }
 ],
 "metadata": {
  "kernelspec": {
   "display_name": "Python 3 (system-wide)",
   "language": "python",
   "metadata": {
    "cocalc": {
     "description": "Python 3 programming language",
     "priority": 100,
     "url": "https://www.python.org/"
    }
   },
   "name": "python3"
  },
  "language_info": {
   "codemirror_mode": {
    "name": "ipython",
    "version": 3
   },
   "file_extension": ".py",
   "mimetype": "text/x-python",
   "name": "python",
   "nbconvert_exporter": "python",
   "pygments_lexer": "ipython3",
   "version": "3.6.8"
  }
 },
 "nbformat": 4,
 "nbformat_minor": 0
}