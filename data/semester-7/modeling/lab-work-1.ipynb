{
 "cells": [
  {
   "cell_type": "code",
   "execution_count": 3,
   "metadata": {
    "collapsed": false
   },
   "outputs": [
   ],
   "source": [
    "import numpy as np\n",
    "import matplotlib.pyplot as plt\n",
    "\n",
    "sequence = []"
   ]
  },
  {
   "cell_type": "code",
   "execution_count": 4,
   "metadata": {
    "collapsed": false
   },
   "outputs": [
   ],
   "source": [
    "def calculate_sequence(a, m, Rn, N):\n",
    "    for x in range(0, N):\n",
    "        Rn = a * Rn % m\n",
    "        sequence.append(Rn / m)\n",
    "\n",
    "\n",
    "def show_hist():\n",
    "    weights = np.ones_like(sequence) / float(len(sequence))\n",
    "    plt.hist(sequence, bins=np.linspace(0, 1, 21), weights=weights, histtype='bar', color='purple', rwidth=0.95)\n",
    "    plt.hlines(1/20, 0, 1)\n",
    "    plt.show()\n",
    "\n",
    "\n",
    "def calculate_implicit_criteria():\n",
    "    criteria_matchers = 0\n",
    "    for i in range(0, len(sequence), 2):\n",
    "        if sequence[i] ** 2 + sequence[i + 1] ** 2 < 1: \n",
    "            criteria_matchers += 1\n",
    "    print('\\nActual: ', 2 * criteria_matchers / len(sequence), '\\nExpected: ', np.pi / 4)\n",
    "\n",
    "\n",
    "def calculate_period():\n",
    "    x_v_index_matchers = []\n",
    "    for i in range(0, len(sequence)):\n",
    "        if sequence[i] == sequence[-1]:\n",
    "            x_v_index_matchers.append(i)\n",
    "    return x_v_index_matchers[1] - x_v_index_matchers[0]\n",
    "\n",
    "\n",
    "def calculate_aperiodic_inteval(P):\n",
    "    i_3 = 0\n",
    "    while sequence[i_3] != sequence[i_3 + P]:\n",
    "        i_3 += 1\n",
    "    return P + i_3"
   ]
  },
  {
   "cell_type": "code",
   "execution_count": 5,
   "metadata": {
    "cocalc": {
     "outputs": {
      "0": {
       "name": "input",
       "opts": {
        "password": false,
        "prompt": "R0:"
       },
       "output_type": "stream",
       "value": "1"
      },
      "1": {
       "name": "input",
       "opts": {
        "password": false,
        "prompt": "a: "
       },
       "output_type": "stream",
       "value": "134279"
      },
      "2": {
       "name": "input",
       "opts": {
        "password": false,
        "prompt": "m: "
       },
       "output_type": "stream",
       "value": "313107"
      }
     }
    },
    "collapsed": false
   },
   "outputs": [
    {
     "name": "stdout",
     "output_type": "stream",
     "text": "R0: 1"
    },
    {
     "name": "stdout",
     "output_type": "stream",
     "text": "a:  134279"
    },
    {
     "name": "stdout",
     "output_type": "stream",
     "text": "m:  313107"
    },
    {
     "data": {
      "image/png": "[encoded data removed]",
      "text/plain": [
       "<Figure size 432x288 with 1 Axes>"
      ]
     },
     "execution_count": 5,
     "metadata": {
      "image/png": {
       "height": 248,
       "width": 378
      }
     },
     "output_type": "execute_result"
    },
    {
     "name": "stdout",
     "output_type": "stream",
     "text": [
      "\n",
      "Mean:  0.49967871209842013 \n",
      "Variance:  0.08330321772709891 \n",
      "Standard deviation:  0.2886229681212133\n",
      "\n",
      "Actual:  0.786148 \n",
      "Expected:  0.7853981633974483\n"
     ]
    },
    {
     "name": "stdout",
     "output_type": "stream",
     "text": [
      "\n",
      "Period:  104368 \n",
      "Aperiodic interval:  104368\n"
     ]
    }
   ],
   "source": [
    "# a = 134279\n",
    "# r0 = 1\n",
    "# m = 313107\n",
    "# n = 1000000\n",
    "R = int(input(\"R0:\"))\n",
    "a = int(input(\"a: \"))\n",
    "m = int(input(\"m: \"))\n",
    "calculate_sequence(a, m, R, 1000000)\n",
    "show_hist()\n",
    "\n",
    "print('\\nMean: ', np.mean(sequence), '\\nVariance: ', np.var(sequence), '\\nStandard deviation: ', np.std(sequence))\n",
    "\n",
    "calculate_implicit_criteria()\n",
    "\n",
    "period = calculate_period()\n",
    "aperiodic_interval = calculate_aperiodic_inteval(period)\n",
    "print('\\nPeriod: ', period, '\\nAperiodic interval: ', aperiodic_interval)"
   ]
  },
  {
   "cell_type": "code",
   "execution_count": 0,
   "metadata": {
    "collapsed": false
   },
   "outputs": [
   ],
   "source": [
   ]
  }
 ],
 "metadata": {
  "kernelspec": {
   "display_name": "Python 3 (system-wide)",
   "language": "python",
   "metadata": {
    "cocalc": {
     "description": "Python 3 programming language",
     "priority": 100,
     "url": "https://www.python.org/"
    }
   },
   "name": "python3"
  },
  "language_info": {
   "codemirror_mode": {
    "name": "ipython",
    "version": 3
   },
   "file_extension": ".py",
   "mimetype": "text/x-python",
   "name": "python",
   "nbconvert_exporter": "python",
   "pygments_lexer": "ipython3",
   "version": "3.6.8"
  }
 },
 "nbformat": 4,
 "nbformat_minor": 0
}