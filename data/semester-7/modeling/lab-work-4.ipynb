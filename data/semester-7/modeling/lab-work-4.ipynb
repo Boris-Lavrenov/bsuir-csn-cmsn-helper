{
 "cells": [
  {
   "cell_type": "code",
   "execution_count": 1,
   "metadata": {
    "collapsed": false
   },
   "outputs": [
    {
     "name": "stdout",
     "output_type": "stream",
     "text": [
      "(0, 1, 0) 11.18 %\n",
      "(0, 1, 1) 32.74 %\n",
      "(1, 1, 1) 36.83 %\n",
      "(2, 1, 1) 17.79 %\n",
      "(0, 0, 1) 0.53 %\n",
      "(0, 0, 0) 0.94 %\n",
      "\n",
      "L__q: 0.724026\n",
      "A: 0.739051\n",
      "W__q:  0.979669873932922\n",
      "K__1: 0.985262\n",
      "K__2: 0.878817\n"
     ]
    }
   ],
   "source": [
    "import random\n",
    "from collections import Counter\n",
    "\n",
    "\n",
    "class ModelStatus:\n",
    "    queueLength = 0\n",
    "    isThreadOneBlocked = False\n",
    "    isThreadTwoBlocked = False\n",
    "\n",
    "    def __init__(self, queueLength, isThreadOneBlocked, isThreadTwoBlocked):\n",
    "        self.queueLength = queueLength\n",
    "        self.isThreadOneBlocked = isThreadOneBlocked\n",
    "        self.isThreadTwoBlocked = isThreadTwoBlocked\n",
    "\n",
    "    def to_string(self):\n",
    "        return self.queueLength, 1 if self.isThreadOneBlocked else 0, 1 if self.isThreadTwoBlocked else 0\n",
    "\n",
    "\n",
    "class PseudoRandom:\n",
    "\n",
    "    a = 134279\n",
    "    Rn = 1\n",
    "    m = 313107\n",
    "\n",
    "    def random(self):\n",
    "        self.Rn = self.a * self.Rn % self.m\n",
    "        return self.Rn / self.m\n",
    "\n",
    "\n",
    "pseudo_random = PseudoRandom()\n",
    "\n",
    "statusHistory = []\n",
    "handle_request = []\n",
    "\n",
    "p = 0.1\n",
    "pi_1 = 0.7\n",
    "pi_2 = 0.5\n",
    "\n",
    "maxQueueLength = 2\n",
    "\n",
    "isNewRequest = False\n",
    "queueLength = 0\n",
    "isThreadOneBlocked = False\n",
    "isThreadTwoBlocked = False\n",
    "\n",
    "\n",
    "def generate_state(probability):\n",
    "    return pseudo_random.random() < probability\n",
    "\n",
    "\n",
    "def iterate():\n",
    "    global isNewRequest\n",
    "    global queueLength\n",
    "    global isThreadOneBlocked\n",
    "    global isThreadTwoBlocked\n",
    "\n",
    "    handling_requests_calculater = 0\n",
    "\n",
    "    isNewRequest = not generate_state(p)\n",
    "    if isThreadOneBlocked:\n",
    "        isThreadOneBlocked = generate_state(pi_1)\n",
    "        if not isThreadOneBlocked:\n",
    "            handling_requests_calculater += 1\n",
    "\n",
    "    if isThreadTwoBlocked:\n",
    "        isThreadTwoBlocked = generate_state(pi_2)\n",
    "        if not isThreadTwoBlocked:\n",
    "            handling_requests_calculater += 1\n",
    "\n",
    "    if isNewRequest and queueLength < maxQueueLength:\n",
    "        queueLength += 1\n",
    "\n",
    "    if not isThreadOneBlocked and queueLength > 0:\n",
    "        isThreadOneBlocked = True\n",
    "        queueLength -= 1\n",
    "\n",
    "    if not isThreadTwoBlocked and queueLength > 0:\n",
    "        isThreadTwoBlocked = True\n",
    "        queueLength -= 1\n",
    "---\n",
    "    statusHistory.append(ModelStatus(queueLength, isThreadOneBlocked, isThreadTwoBlocked).to_string())\n",
    "    handle_request.append(handling_requests_calculater)\n",
    "\n",
    "iterations = 1000000\n",
    "for i in range(iterations):\n",
    "    iterate()\n",
    "\n",
    "\n",
    "counter = Counter(statusHistory)\n",
    "\n",
    "for state in counter:\n",
    "    print(state, round(counter[state]/iterations * 100, 2),'%')\n",
    "\n",
    "\n",
    "L__q = sum(list(map(lambda state: state[0] * counter[state], counter))) / iterations\n",
    "print(\"\\nL__q:\", L__q)\n",
    "\n",
    "A = sum(handle_request) / iterations\n",
    "print(\"A:\", A)\n",
    "\n",
    "W__q = L__q / A\n",
    "print(\"W__q: \", W__q)\n",
    "\n",
    "K__1 = sum(list(map(lambda state: state[1] * counter[state], counter))) / iterations\n",
    "print(\"K__1:\", K__1)\n",
    "K__2 = sum(list(map(lambda state: state[2] * counter[state], counter))) / iterations\n",
    "print(\"K__2:\", K__2)"
   ]
  },
  {
   "cell_type": "code",
   "execution_count": 0,
   "metadata": {
    "collapsed": false
   },
   "outputs": [
   ],
   "source": [
   ]
  }
 ],
 "metadata": {
  "kernelspec": {
   "display_name": "Python 3 (system-wide)",
   "language": "python",
   "metadata": {
    "cocalc": {
     "description": "Python 3 programming language",
     "priority": 100,
     "url": "https://www.python.org/"
    }
   },
   "name": "python3"
  },
  "language_info": {
   "codemirror_mode": {
    "name": "ipython",
    "version": 3
   },
   "file_extension": ".py",
   "mimetype": "text/x-python",
   "name": "python",
   "nbconvert_exporter": "python",
   "pygments_lexer": "ipython3",
   "version": "3.6.8"
  }
 },
 "nbformat": 4,
 "nbformat_minor": 0
}