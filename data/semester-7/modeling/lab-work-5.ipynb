{
 "cells": [
  {
   "cell_type": "code",
   "execution_count": 1,
   "metadata": {
    "collapsed": false
   },
   "outputs": [
    {
     "name": "stdout",
     "output_type": "stream",
     "text": [
      "P00:  0.3369728\n",
      "P10:  0.6117781\n",
      "P01:  0.0022838\n",
      "P11:  0.0489653\n"
     ]
    }
   ],
   "source": [
    "import argparse\n",
    "from math import log\n",
    "from random import uniform\n",
    "\n",
    "mu1 = 5\n",
    "mu2 = 110.379\n",
    "lmbd = 9.5\n",
    "normalizing_factor = 0\n",
    "accuracy = 100\n",
    "\n",
    "P00 = 0\n",
    "P10 = 0\n",
    "P01 = 0\n",
    "P11 = 0\n",
    "\n",
    "class Channel:\n",
    "    def __init__(self, intensity):\n",
    "        self._intensity = intensity\n",
    "        self._ticks_for_process = 0\n",
    "        self.work_time = 0\n",
    "        self.processed_claims = 0\n",
    "        self.is_first_claim = True\n",
    "\n",
    "    def add(self):\n",
    "        self._ticks_for_process = exponential_number(self._intensity)\n",
    "        if self.is_first_claim:\n",
    "            self.is_first_claim = False\n",
    "        else:\n",
    "            self.processed_claims += 1\n",
    "\n",
    "    def is_processed(self):\n",
    "        return self._ticks_for_process <= 0\n",
    "\n",
    "    def tick(self):\n",
    "        if self._ticks_for_process > 0:\n",
    "            self._ticks_for_process -= 1\n",
    "            self.work_time += 1\n",
    "\n",
    "class Generator:\n",
    "    def __init__(self, intensity):\n",
    "        self._intensity = intensity\n",
    "        self._ticks_for_generate = 0\n",
    "\n",
    "    def start_generate(self):\n",
    "        self._ticks_for_generate = exponential_number(self._intensity)\n",
    "\n",
    "    def is_generated(self):\n",
    "        return self._ticks_for_generate <= 0\n",
    "\n",
    "    def tick(self):\n",
    "        if self._ticks_for_generate > 0:\n",
    "            self._ticks_for_generate -= 1\n",
    "\n",
    "def exponential_number(number):\n",
    "    return (-1 / number) * log(uniform(0, 1))\n",
    "\n",
    "\n",
    "def normailze_inputs():\n",
    "    global mu1\n",
    "    global mu2\n",
    "    global lmbd\n",
    "    global normalizing_factor\n",
    "    normalizing_factor = max(mu1, mu2, lmbd) * accuracy\n",
    "    mu1 = mu1 / normalizing_factor\n",
    "    mu2 = mu2 / normalizing_factor\n",
    "    lmbd = lmbd / normalizing_factor\n",
    "\n",
    "\n",
    "def main():\n",
    "    global P00\n",
    "    global P01\n",
    "    global P10\n",
    "    global P11\n",
    "    normailze_inputs()\n",
    "\n",
    "    first_chanel = Channel(mu1)\n",
    "    second_chanel = Channel(mu2)\n",
    "    generator = Generator(lmbd)\n",
    "    ticks_number = 100000 * accuracy\n",
    "    declined_claims = 0\n",
    "    generated_claims = 0\n",
    "    processed_claims = 0\n",
    "    for i in range(0, ticks_number):\n",
    "        if first_chanel.is_processed() and second_chanel.is_processed():\n",
    "            P00 += 1\n",
    "        elif not first_chanel.is_processed() and second_chanel.is_processed():\n",
    "            P10 += 1\n",
    "        elif first_chanel.is_processed() and not second_chanel.is_processed():\n",
    "            P01 += 1\n",
    "        else:\n",
    "            P11 += 1\n",
    "\n",
    "        if generator.is_generated():\n",
    "            generator.start_generate()\n",
    "            generated_claims += 1\n",
    "            if first_chanel.is_processed():\n",
    "                first_chanel.add()\n",
    "                processed_claims += 1\n",
    "            elif second_chanel.is_processed():\n",
    "                second_chanel.add()\n",
    "                processed_claims += 1\n",
    "            else:\n",
    "                declined_claims += 1\n",
    "        first_chanel.tick()\n",
    "        second_chanel.tick()\n",
    "        generator.tick()\n",
    "\n",
    "    print('P00: ', P00 / ticks_number)\n",
    "    print('P10: ', P10 / ticks_number)\n",
    "    print('P01: ', P01 / ticks_number)\n",
    "    print('P11: ', P11 / ticks_number)\n",
    "\n",
    "if __name__ == \"__main__\":\n",
    "    main()"
   ]
  },
  {
   "cell_type": "code",
   "execution_count": 0,
   "metadata": {
    "collapsed": false
   },
   "outputs": [
   ],
   "source": [
   ]
  },
  {
   "cell_type": "code",
   "execution_count": 0,
   "metadata": {
    "collapsed": false
   },
   "outputs": [
   ],
   "source": [
   ]
  }
 ],
 "metadata": {
  "kernelspec": {
   "display_name": "Python 3 (system-wide)",
   "language": "python",
   "metadata": {
    "cocalc": {
     "description": "Python 3 programming language",
     "priority": 100,
     "url": "https://www.python.org/"
    }
   },
   "name": "python3"
  },
  "language_info": {
   "codemirror_mode": {
    "name": "ipython",
    "version": 3
   },
   "file_extension": ".py",
   "mimetype": "text/x-python",
   "name": "python",
   "nbconvert_exporter": "python",
   "pygments_lexer": "ipython3",
   "version": "3.6.8"
  }
 },
 "nbformat": 4,
 "nbformat_minor": 0
}